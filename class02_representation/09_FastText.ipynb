{
 "cells": [
  {
   "cell_type": "markdown",
   "metadata": {},
   "source": [
    "# Vectorization\n",
    "\n",
    "In this notebook, we will see an example of how to use a pre-trained Word2vec model to vectorize text.t started!"
   ]
  },
  {
   "metadata": {},
   "cell_type": "raw",
   "source": "# Download fasttext pretrained common crawl model"
  },
  {
   "metadata": {
    "ExecuteTime": {
     "end_time": "2024-09-08T01:18:52.587369Z",
     "start_time": "2024-09-08T01:18:50.135583Z"
    }
   },
   "cell_type": "code",
   "source": "from gensim.models import fasttext",
   "outputs": [],
   "execution_count": 1
  },
  {
   "metadata": {
    "ExecuteTime": {
     "end_time": "2024-09-08T01:30:01.086170Z",
     "start_time": "2024-09-08T01:28:39.969649Z"
    }
   },
   "cell_type": "code",
   "source": "fasttext_pretrained_model = fasttext.FastText.load_fasttext_format('./models/cc.en.300.bin')",
   "outputs": [
    {
     "name": "stderr",
     "output_type": "stream",
     "text": [
      "/home/ahmeddoha/PycharmProjects/venvs/Applied_AI_Course_venv/lib/python3.10/site-packages/gensim/models/base_any2vec.py:742: UserWarning: C extension not loaded, training will be slow. Install a C compiler and reinstall gensim for fast training.\n",
      "  warnings.warn(\n"
     ]
    }
   ],
   "execution_count": 14
  },
  {
   "cell_type": "code",
   "metadata": {
    "ExecuteTime": {
     "end_time": "2024-09-08T01:34:54.016412Z",
     "start_time": "2024-09-08T01:34:53.870615Z"
    }
   },
   "source": [
    "fasttext_pretrained_model.wv.most_similar(positive=[\"king\", \"woman\"], negative=[\"man\"])"
   ],
   "outputs": [
    {
     "data": {
      "text/plain": [
       "[('queen', 0.7554813623428345),\n",
       " ('queen-mother', 0.6141632199287415),\n",
       " ('princess', 0.5755329132080078),\n",
       " ('monarch', 0.5741075873374939),\n",
       " ('kings', 0.5688967108726501),\n",
       " ('queenship', 0.5649925470352173),\n",
       " ('Queen', 0.5638619661331177),\n",
       " ('empress', 0.5544730424880981),\n",
       " ('consort', 0.5524798035621643),\n",
       " ('queen.The', 0.5497488379478455)]"
      ]
     },
     "execution_count": 24,
     "metadata": {},
     "output_type": "execute_result"
    }
   ],
   "execution_count": 24
  },
  {
   "metadata": {
    "ExecuteTime": {
     "end_time": "2024-09-08T01:39:55.376468Z",
     "start_time": "2024-09-08T01:39:55.247535Z"
    }
   },
   "cell_type": "code",
   "source": "fasttext_pretrained_model.wv.most_similar(positive=[\"Cheese\", \"Germany\"], negative=[\"France\"])\n",
   "outputs": [
    {
     "data": {
      "text/plain": [
       "[('Cheese-', 0.5812630653381348),\n",
       " ('Cheese.', 0.5495498180389404),\n",
       " ('cheese', 0.5460280179977417),\n",
       " ('Cheddar', 0.5300347805023193),\n",
       " ('Bratwurst', 0.529442310333252),\n",
       " ('Cheeses', 0.5226463675498962),\n",
       " ('Pretzel', 0.5182473659515381),\n",
       " ('Chees', 0.5144107341766357),\n",
       " ('Mozarella', 0.5030313730239868),\n",
       " ('Cheeze', 0.49421876668930054)]"
      ]
     },
     "execution_count": 28,
     "metadata": {},
     "output_type": "execute_result"
    }
   ],
   "execution_count": 28
  },
  {
   "metadata": {},
   "cell_type": "code",
   "outputs": [],
   "execution_count": null,
   "source": ""
  }
 ],
 "metadata": {
  "accelerator": "GPU",
  "colab": {
   "collapsed_sections": [],
   "name": "03_Word2Vec_Example.ipynb",
   "provenance": []
  },
  "kernelspec": {
   "display_name": "Applied_AI_Course_venv",
   "language": "python",
   "name": "applied_ai_course_venv"
  },
  "language_info": {
   "codemirror_mode": {
    "name": "ipython",
    "version": 3
   },
   "file_extension": ".py",
   "mimetype": "text/x-python",
   "name": "python",
   "nbconvert_exporter": "python",
   "pygments_lexer": "ipython3",
   "version": "3.10.9"
  }
 },
 "nbformat": 4,
 "nbformat_minor": 4
}
